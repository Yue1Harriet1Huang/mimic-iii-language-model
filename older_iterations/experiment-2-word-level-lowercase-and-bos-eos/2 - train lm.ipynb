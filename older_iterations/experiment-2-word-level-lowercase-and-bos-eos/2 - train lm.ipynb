{
 "cells": [
  {
   "cell_type": "code",
   "execution_count": 1,
   "metadata": {},
   "outputs": [],
   "source": [
    "%matplotlib inline\n",
    "%reload_ext autoreload\n",
    "%autoreload 2"
   ]
  },
  {
   "cell_type": "code",
   "execution_count": 2,
   "metadata": {},
   "outputs": [
    {
     "name": "stderr",
     "output_type": "stream",
     "text": [
      "/home/paperspace/anaconda3/envs/fastai/lib/python3.6/site-packages/sklearn/ensemble/weight_boosting.py:29: DeprecationWarning: numpy.core.umath_tests is an internal NumPy module and should not be imported. It will be removed in a future NumPy release.\n",
      "  from numpy.core.umath_tests import inner1d\n"
     ]
    }
   ],
   "source": [
    "from fastai.text import *\n",
    "import pickle\n",
    "import pandas as pd\n",
    "import html"
   ]
  },
  {
   "cell_type": "code",
   "execution_count": 3,
   "metadata": {},
   "outputs": [],
   "source": [
    "PATH=Path('/home/paperspace/data/mimic-iii')\n",
    "LM_PATH=PATH/'exp-2'"
   ]
  },
  {
   "cell_type": "code",
   "execution_count": 4,
   "metadata": {},
   "outputs": [],
   "source": [
    "trn_ids = np.load(LM_PATH/'trn_ids_concat.npy')\n",
    "val_ids = np.load(LM_PATH/'val_ids_concat.npy')"
   ]
  },
  {
   "cell_type": "code",
   "execution_count": 5,
   "metadata": {},
   "outputs": [],
   "source": [
    "with open(LM_PATH/'itos.pickle', 'rb') as handle:\n",
    "    itos = pickle.load(handle)\n",
    "    \n",
    "vocab_size=len(itos)"
   ]
  },
  {
   "cell_type": "code",
   "execution_count": 6,
   "metadata": {},
   "outputs": [],
   "source": [
    "em_sz,nh,nl = 400,1150,3\n",
    "bptt, bs = 70, 64"
   ]
  },
  {
   "cell_type": "code",
   "execution_count": 7,
   "metadata": {},
   "outputs": [],
   "source": [
    "trn_dl = LanguageModelLoader(trn_ids, bs, bptt)\n",
    "val_dl = LanguageModelLoader(val_ids, bs, bptt)\n",
    "md = LanguageModelData(PATH, 0, vocab_size, trn_dl, val_dl, bs=bs, bptt=bptt)"
   ]
  },
  {
   "cell_type": "code",
   "execution_count": 8,
   "metadata": {},
   "outputs": [],
   "source": [
    "drops = np.array([0.25, 0.1, 0.2, 0.02, 0.15])*0.5"
   ]
  },
  {
   "cell_type": "code",
   "execution_count": 9,
   "metadata": {},
   "outputs": [],
   "source": [
    "opt_fn = partial(optim.Adam, betas=(0.8,0.99))\n",
    "learner= md.get_model(opt_fn, em_sz, nh, nl,\n",
    "    dropouti=drops[0], dropout=drops[1], wdrop=drops[2], dropoute=drops[3], dropouth=drops[4])\n",
    "learner.metrics = [accuracy]\n",
    "learner.clip=0.12\n",
    "learner.unfreeze()\n",
    "learner.reg_fn=partial(seq2seq_reg, alpha=2, beta=1)\n",
    "wd = 1e-7"
   ]
  },
  {
   "cell_type": "code",
   "execution_count": 10,
   "metadata": {},
   "outputs": [
    {
     "data": {
      "application/vnd.jupyter.widget-view+json": {
       "model_id": "4775c4a756614b8899b541bb1026baa9",
       "version_major": 2,
       "version_minor": 0
      },
      "text/plain": [
       "HBox(children=(IntProgress(value=0, description='Epoch', max=1), HTML(value='')))"
      ]
     },
     "metadata": {},
     "output_type": "display_data"
    },
    {
     "name": "stdout",
     "output_type": "stream",
     "text": [
      " 46%|████▋     | 8130/17529 [42:41<49:21,  3.17it/s, loss=11.8]  "
     ]
    }
   ],
   "source": [
    "learner.lr_find(end_lr=1000)"
   ]
  },
  {
   "cell_type": "code",
   "execution_count": 11,
   "metadata": {},
   "outputs": [
    {
     "data": {
      "image/png": "[encoded data removed]",
      "text/plain": [
       "<Figure size 432x288 with 1 Axes>"
      ]
     },
     "metadata": {},
     "output_type": "display_data"
    }
   ],
   "source": [
    "learner.sched.plot()"
   ]
  },
  {
   "cell_type": "code",
   "execution_count": 12,
   "metadata": {},
   "outputs": [],
   "source": [
    "lr = 10e-3"
   ]
  },
  {
   "cell_type": "code",
   "execution_count": 13,
   "metadata": {},
   "outputs": [
    {
     "data": {
      "application/vnd.jupyter.widget-view+json": {
       "model_id": "6f70078d058f4104a96e5e72c14ee0fd",
       "version_major": 2,
       "version_minor": 0
      },
      "text/plain": [
       "HBox(children=(IntProgress(value=0, description='Epoch', max=10), HTML(value='')))"
      ]
     },
     "metadata": {},
     "output_type": "display_data"
    },
    {
     "name": "stdout",
     "output_type": "stream",
     "text": [
      "epoch      trn_loss   val_loss   accuracy                         \n",
      "    0      2.729876   2.676484   0.506257  \n",
      "    1      2.592066   2.496985   0.529427                         \n",
      "    2      2.607659   2.49722    0.530698                         \n",
      "    3      2.638773   2.524335   0.527946                         \n",
      "    4      2.599755   2.512521   0.52966                          \n",
      "    5      2.611442   2.460475   0.536182                         \n",
      "    6      2.529687   2.414329   0.54212                          \n",
      "    7      2.485293   2.368858   0.548198                         \n",
      "    8      2.463634   2.330411   0.553335                         \n",
      "    9      2.450952   2.315072   0.555576                         \n"
     ]
    },
    {
     "data": {
      "text/plain": [
       "[array([2.31507]), 0.5555761447306623]"
      ]
     },
     "execution_count": 13,
     "metadata": {},
     "output_type": "execute_result"
    }
   ],
   "source": [
    "learner.fit(lr, 1, cycle_len=10, use_clr_beta=(10,10,0.95,0.85))"
   ]
  },
  {
   "cell_type": "code",
   "execution_count": null,
   "metadata": {},
   "outputs": [],
   "source": [
    "learner.sched.plot_loss(n_skip=20000)"
   ]
  },
  {
   "cell_type": "code",
   "execution_count": 60,
   "metadata": {},
   "outputs": [],
   "source": [
    "learner.save('experiment-2-word_level_lowercase')"
   ]
  },
  {
   "cell_type": "code",
   "execution_count": 61,
   "metadata": {},
   "outputs": [],
   "source": [
    "learner.load('experiment-2-word_level_lowercase')"
   ]
  },
  {
   "cell_type": "code",
   "execution_count": 79,
   "metadata": {},
   "outputs": [],
   "source": [
    "m = learner.model\n",
    "\n",
    "with open(LM_PATH/'stoi.pickle','rb') as f:\n",
    "    stoi = pickle.load(f)\n",
    "\n",
    "def sample_model(m, s, l=100):\n",
    "    s_toks = Tokenizer().proc_text(s)\n",
    "    s_nums = [stoi[i] for i in s_toks]\n",
    "    s_var = V(np.array(s_nums))[None]\n",
    "\n",
    "    m[0].bs=1\n",
    "    m.eval()\n",
    "    m.reset()\n",
    "\n",
    "    res, *_ = m(s_var)\n",
    "    print('...', end='')\n",
    "\n",
    "    for i in range(l):\n",
    "        r = torch.multinomial(res[-1].exp(), 2)\n",
    "        #r = torch.topk(res[-1].exp(), 2)[1]\n",
    "        if r.data[0] == 0:\n",
    "            r = r[1]\n",
    "        else:\n",
    "            r = r[0]\n",
    "        \n",
    "        word = itos[to_np(r)[0]]\n",
    "        res, *_ = m(r[0].unsqueeze(0))\n",
    "        print(word, end=' ')\n",
    "    m[0].bs=bs"
   ]
  },
  {
   "cell_type": "code",
   "execution_count": 80,
   "metadata": {},
   "outputs": [
    {
     "name": "stdout",
     "output_type": "stream",
     "text": [
      "...assisted with activities . ordered to ct scan of her chest at approximately rising previous 50mcgs spared changefrom boot removed in the setting of marked 92status . ap neuro examination : on face tent there was during admit to the micu , following intubation , 100.9 degrees . extensor posturing and became [ * * last name ( un ) * * ] stim . slight clonus , eyes open , unable to examsee care two times , not to call or following commands , ng tube was also clamped . notable rl , speaking 75 4 t - sicu "
     ]
    }
   ],
   "source": [
    "s = 'cardiovascular system '\n",
    "sample_model(m, s)"
   ]
  },
  {
   "cell_type": "code",
   "execution_count": 81,
   "metadata": {},
   "outputs": [
    {
     "name": "stdout",
     "output_type": "stream",
     "text": [
      "...of nopericardial air- edema , flat and hrs.gi right mchc-34.9 . no signs of infection ezetimibe , home paperwork . [ * * doctor last name * * ] consulted , recommended euvolemic respirations 30 . if weight operation , would recommend lasix . xeos \n",
      " xbos [ * * 2128 - 4 - 22 * * ] patient - t kept to 3vd r femoral with 2 vessel cad and for sequela of cabg with pci , presumed lmca infarct right e.neuro without intervention , svg to index and day5 - om2 symmetric 60 - 70 , o 33.3 "
     ]
    }
   ],
   "source": [
    "s = 'blood loss '\n",
    "sample_model(m, s)"
   ]
  }
 ],
 "metadata": {
  "kernelspec": {
   "display_name": "Python 3",
   "language": "python",
   "name": "python3"
  },
  "language_info": {
   "codemirror_mode": {
    "name": "ipython",
    "version": 3
   },
   "file_extension": ".py",
   "mimetype": "text/x-python",
   "name": "python",
   "nbconvert_exporter": "python",
   "pygments_lexer": "ipython3",
   "version": "3.6.6"
  }
 },
 "nbformat": 4,
 "nbformat_minor": 2
}
