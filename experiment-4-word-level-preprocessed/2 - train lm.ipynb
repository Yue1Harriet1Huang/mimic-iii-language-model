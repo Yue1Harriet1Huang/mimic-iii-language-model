{
 "cells": [
  {
   "cell_type": "code",
   "execution_count": 1,
   "metadata": {},
   "outputs": [],
   "source": [
    "%matplotlib inline\n",
    "%reload_ext autoreload\n",
    "%autoreload 2"
   ]
  },
  {
   "cell_type": "code",
   "execution_count": 2,
   "metadata": {},
   "outputs": [
    {
     "name": "stderr",
     "output_type": "stream",
     "text": [
      "/home/paperspace/anaconda3/envs/fastai/lib/python3.6/site-packages/sklearn/ensemble/weight_boosting.py:29: DeprecationWarning: numpy.core.umath_tests is an internal NumPy module and should not be imported. It will be removed in a future NumPy release.\n",
      "  from numpy.core.umath_tests import inner1d\n"
     ]
    }
   ],
   "source": [
    "from fastai.text import *\n",
    "import pickle\n",
    "import pandas as pd\n",
    "import html"
   ]
  },
  {
   "cell_type": "code",
   "execution_count": 3,
   "metadata": {},
   "outputs": [],
   "source": [
    "PATH=Path('/home/paperspace/data/mimic-iii')\n",
    "LM_PATH=PATH/'exp-4'"
   ]
  },
  {
   "cell_type": "code",
   "execution_count": 4,
   "metadata": {},
   "outputs": [],
   "source": [
    "trn_ids = np.load(LM_PATH/'trn_ids_concat.npy')\n",
    "val_ids = np.load(LM_PATH/'val_ids_concat.npy')"
   ]
  },
  {
   "cell_type": "code",
   "execution_count": 5,
   "metadata": {},
   "outputs": [],
   "source": [
    "with open(LM_PATH/'itos.pickle', 'rb') as handle:\n",
    "    itos = pickle.load(handle)\n",
    "    \n",
    "vocab_size=len(itos)"
   ]
  },
  {
   "cell_type": "code",
   "execution_count": 6,
   "metadata": {},
   "outputs": [],
   "source": [
    "em_sz,nh,nl = 400,1150,3\n",
    "bptt, bs = 70, 64"
   ]
  },
  {
   "cell_type": "code",
   "execution_count": 7,
   "metadata": {},
   "outputs": [],
   "source": [
    "trn_dl = LanguageModelLoader(trn_ids, bs, bptt)\n",
    "val_dl = LanguageModelLoader(val_ids, bs, bptt)\n",
    "md = LanguageModelData(PATH, 0, vocab_size, trn_dl, val_dl, bs=bs, bptt=bptt)"
   ]
  },
  {
   "cell_type": "code",
   "execution_count": 8,
   "metadata": {},
   "outputs": [],
   "source": [
    "drops = np.array([0.25, 0.1, 0.2, 0.02, 0.15])*0.5"
   ]
  },
  {
   "cell_type": "code",
   "execution_count": 9,
   "metadata": {},
   "outputs": [],
   "source": [
    "opt_fn = partial(optim.Adam, betas=(0.8,0.99))\n",
    "learner= md.get_model(opt_fn, em_sz, nh, nl,\n",
    "    dropouti=drops[0], dropout=drops[1], wdrop=drops[2], dropoute=drops[3], dropouth=drops[4])\n",
    "learner.metrics = [accuracy]\n",
    "learner.clip=0.12\n",
    "learner.unfreeze()\n",
    "learner.reg_fn=partial(seq2seq_reg, alpha=2, beta=1)\n",
    "wd = 1e-7"
   ]
  },
  {
   "cell_type": "code",
   "execution_count": 10,
   "metadata": {},
   "outputs": [
    {
     "data": {
      "application/vnd.jupyter.widget-view+json": {
       "model_id": "673ab3aef0174c59883e9d0b290845ea",
       "version_major": 2,
       "version_minor": 0
      },
      "text/plain": [
       "HBox(children=(IntProgress(value=0, description='Epoch', max=1), HTML(value='')))"
      ]
     },
     "metadata": {},
     "output_type": "display_data"
    },
    {
     "name": "stdout",
     "output_type": "stream",
     "text": [
      " 46%|████▌     | 13516/29389 [1:06:34<1:18:11,  3.38it/s, loss=9.85]"
     ]
    }
   ],
   "source": [
    "learner.lr_find(end_lr=1000)"
   ]
  },
  {
   "cell_type": "code",
   "execution_count": 11,
   "metadata": {},
   "outputs": [
    {
     "data": {
      "image/png": "[encoded data removed]",
      "text/plain": [
       "<Figure size 432x288 with 1 Axes>"
      ]
     },
     "metadata": {},
     "output_type": "display_data"
    }
   ],
   "source": [
    "learner.sched.plot()"
   ]
  },
  {
   "cell_type": "code",
   "execution_count": 12,
   "metadata": {},
   "outputs": [],
   "source": [
    "lr = 10e-3"
   ]
  },
  {
   "cell_type": "code",
   "execution_count": 13,
   "metadata": {},
   "outputs": [
    {
     "data": {
      "application/vnd.jupyter.widget-view+json": {
       "model_id": "488dd3afa4f2424bb40267e9e27ba57a",
       "version_major": 2,
       "version_minor": 0
      },
      "text/plain": [
       "HBox(children=(IntProgress(value=0, description='Epoch', max=12), HTML(value='')))"
      ]
     },
     "metadata": {},
     "output_type": "display_data"
    },
    {
     "name": "stdout",
     "output_type": "stream",
     "text": [
      "epoch      trn_loss   val_loss   accuracy                           \n",
      "    0      2.329446   2.395113   0.546113  \n",
      "    1      2.382126   2.374771   0.547977                           \n",
      "    2      2.384268   2.349232   0.55244                            \n",
      "    3      2.370828   2.377182   0.548708                           \n",
      "    4      2.466097   2.413821   0.544219                           \n",
      "    5      2.466157   2.422575   0.543231                           \n",
      "    6      2.378368   2.372628   0.550112                           \n",
      "    7      2.330606   2.311923   0.557783                           \n",
      "    8      2.278749   2.258298   0.565225                           \n",
      "    9      2.236852   2.2157     0.571137                           \n",
      "    10     2.186315   2.180665   0.576385                           \n",
      "    11     2.188091   2.164899   0.579048                           \n"
     ]
    },
    {
     "data": {
      "text/plain": [
       "[array([2.1649]), 0.5790483291645055]"
      ]
     },
     "execution_count": 13,
     "metadata": {},
     "output_type": "execute_result"
    }
   ],
   "source": [
    "learner.fit(lr, 1, cycle_len=12, use_clr_beta=(10,10,0.95,0.85))l"
   ]
  },
  {
   "cell_type": "code",
   "execution_count": 14,
   "metadata": {},
   "outputs": [
    {
     "data": {
      "image/png": "[encoded data removed]",
      "text/plain": [
       "<Figure size 432x288 with 1 Axes>"
      ]
     },
     "metadata": {},
     "output_type": "display_data"
    }
   ],
   "source": [
    "learner.sched.plot_loss(n_skip=20000)"
   ]
  },
  {
   "cell_type": "code",
   "execution_count": 15,
   "metadata": {},
   "outputs": [],
   "source": [
    "learner.save('exp-4')"
   ]
  },
  {
   "cell_type": "code",
   "execution_count": 16,
   "metadata": {},
   "outputs": [],
   "source": [
    "learner.load('exp-4')"
   ]
  },
  {
   "cell_type": "code",
   "execution_count": 132,
   "metadata": {},
   "outputs": [],
   "source": [
    "m = learner.model\n",
    "\n",
    "with open(LM_PATH/'stoi.pickle','rb') as f:\n",
    "    stoi = pickle.load(f)\n",
    "\n",
    "def sample_model(m, s, l=100):\n",
    "    s_toks = Tokenizer().proc_text(s)\n",
    "    s_nums = [stoi[i] for i in s_toks]\n",
    "    s_var = V(np.array(s_nums))[None]\n",
    "\n",
    "    m[0].bs=1\n",
    "    m.eval()\n",
    "    m.reset()\n",
    "\n",
    "    res, *_ = m(s_var)\n",
    "    print('...', end='')\n",
    "\n",
    "    for i in range(l):\n",
    "        r = torch.multinomial(res[-1].exp(), 2)\n",
    "        #r = torch.topk(res[-1].exp(), 2)[1]\n",
    "        if r.data[0] == 0:\n",
    "            r = r[1]\n",
    "        else:\n",
    "            r = r[0]\n",
    "        \n",
    "        word = itos[to_np(r)[0]]\n",
    "        res, *_ = m(r[0].unsqueeze(0))\n",
    "        print(word, end=' ')\n",
    "    m[0].bs=bs"
   ]
  },
  {
   "cell_type": "code",
   "execution_count": 136,
   "metadata": {},
   "outputs": [
    {
     "name": "stdout",
     "output_type": "stream",
     "text": [
      "...measurements 59 / 50 ( 51 ) hct 3.0 . looked stable ) virus \n",
      " and one other shiley tube placement . 784 was not started \n",
      " in the anticoag that results were minimally angap-13 reaction . \n",
      " recruitment maneuvers seen dressed and vacuum / oxygenation at \n",
      " age 78 . \n",
      "\n",
      " xxfn xxln , md \n",
      " xxln . please xxph . \n",
      "\n",
      " no xxhosp was 280 . \n",
      "\n",
      "  t_up mri \n",
      "\n",
      "  # retinitis l4 allergy : \n",
      " * patient intubated and sedated for the spinal cord , initially . \n",
      " . \n",
      "  # headache / photophobia : \n",
      " neuro "
     ]
    }
   ],
   "source": [
    "s = 'cardio '\n",
    "sample_model(m, s)"
   ]
  },
  {
   "cell_type": "code",
   "execution_count": 137,
   "metadata": {},
   "outputs": [
    {
     "name": "stdout",
     "output_type": "stream",
     "text": [
      "...of 65(73 - 2,500 hgb-12.8 on admission and 13 \n",
      " mm eos:2.2 character . t_up 30u was emergently stopped . xxdate \n",
      " and xxyear ) t_up hct-41.9 ablation . questionable t_up 76(84 on xxmmdd while awaiting and \n",
      " subsequently bf on xxmmdd and had not been done at xxmmdd . \n",
      " methicillin - sensitive 2.0 x arch 4 / 2 blood culture from xxmmdd \n",
      " unsuccessful . this finding on ua also demonstrated only \n",
      " mixed acid avidity at the right upper lobe . \n",
      "  t_up neuro : good result as above . \n",
      "\n",
      " prophylaxis : gait initially and conversant "
     ]
    }
   ],
   "source": [
    "s = 'blood loss '\n",
    "sample_model(m, s)"
   ]
  },
  {
   "cell_type": "code",
   "execution_count": 139,
   "metadata": {},
   "outputs": [
    {
     "name": "stdout",
     "output_type": "stream",
     "text": [
      "...remained without tip . check blood flow \n",
      " sent home . serial labs and coags . make fine and concerns \n",
      " for a possible le movement . \n",
      " hepatitis c and hep c- consulting in to check and keep results of zinc . \n",
      " plastic surgery consult felt this near xxfn , \n",
      "  t_up mri xxdocfn of bili:134 was performed of her palliative care staff \n",
      " but receive a full dose for lymphoma but recommended \n",
      " conservative work - up per urology team . the patient began to \n",
      " require intermittent trends at the lower end of iv and \n",
      " "
     ]
    }
   ],
   "source": [
    "s = 'xbos patient '\n",
    "sample_model(m, s)"
   ]
  },
  {
   "cell_type": "code",
   "execution_count": null,
   "metadata": {},
   "outputs": [],
   "source": []
  }
 ],
 "metadata": {
  "kernelspec": {
   "display_name": "Python 3",
   "language": "python",
   "name": "python3"
  },
  "language_info": {
   "codemirror_mode": {
    "name": "ipython",
    "version": 3
   },
   "file_extension": ".py",
   "mimetype": "text/x-python",
   "name": "python",
   "nbconvert_exporter": "python",
   "pygments_lexer": "ipython3",
   "version": "3.6.6"
  }
 },
 "nbformat": 4,
 "nbformat_minor": 2
}
