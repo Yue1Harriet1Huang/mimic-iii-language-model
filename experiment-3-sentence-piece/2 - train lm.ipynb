{
 "cells": [
  {
   "cell_type": "code",
   "execution_count": null,
   "metadata": {},
   "outputs": [],
   "source": [
    "%matplotlib inline\n",
    "%reload_ext autoreload\n",
    "%autoreload 2"
   ]
  },
  {
   "cell_type": "code",
   "execution_count": 16,
   "metadata": {},
   "outputs": [],
   "source": [
    "from fastai.text import *\n",
    "import pickle\n",
    "import pandas as pd\n",
    "import sentencepiece as spm"
   ]
  },
  {
   "cell_type": "code",
   "execution_count": 3,
   "metadata": {},
   "outputs": [],
   "source": [
    "PATH=Path('/home/paperspace/data/mimic-iii')\n",
    "LM_PATH=PATH/'exp-3'"
   ]
  },
  {
   "cell_type": "code",
   "execution_count": 4,
   "metadata": {},
   "outputs": [],
   "source": [
    "trn_ids = np.load(LM_PATH/'trn_ids_concat.npy')\n",
    "val_ids = np.load(LM_PATH/'val_ids_concat.npy')"
   ]
  },
  {
   "cell_type": "code",
   "execution_count": 5,
   "metadata": {},
   "outputs": [],
   "source": [
    "vocab_size=30000"
   ]
  },
  {
   "cell_type": "code",
   "execution_count": 6,
   "metadata": {},
   "outputs": [],
   "source": [
    "em_sz,nh,nl = 400,1150,3\n",
    "bptt, bs = 70, 64"
   ]
  },
  {
   "cell_type": "code",
   "execution_count": 7,
   "metadata": {},
   "outputs": [],
   "source": [
    "trn_dl = LanguageModelLoader(trn_ids, bs, bptt)\n",
    "val_dl = LanguageModelLoader(val_ids, bs, bptt)\n",
    "md = LanguageModelData(PATH, 0, vocab_size, trn_dl, val_dl, bs=bs, bptt=bptt)"
   ]
  },
  {
   "cell_type": "code",
   "execution_count": 8,
   "metadata": {},
   "outputs": [],
   "source": [
    "drops = np.array([0.25, 0.1, 0.2, 0.02, 0.15])*0.5"
   ]
  },
  {
   "cell_type": "code",
   "execution_count": 9,
   "metadata": {},
   "outputs": [],
   "source": [
    "opt_fn = partial(optim.Adam, betas=(0.8,0.99))\n",
    "learner= md.get_model(opt_fn, em_sz, nh, nl,\n",
    "    dropouti=drops[0], dropout=drops[1], wdrop=drops[2], dropoute=drops[3], dropouth=drops[4])\n",
    "learner.metrics = [accuracy]\n",
    "learner.clip=0.12\n",
    "learner.unfreeze()\n",
    "learner.reg_fn=partial(seq2seq_reg, alpha=2, beta=1)\n",
    "wd = 1e-7"
   ]
  },
  {
   "cell_type": "code",
   "execution_count": null,
   "metadata": {},
   "outputs": [],
   "source": [
    "learner.lr_find(end_lr=1000)"
   ]
  },
  {
   "cell_type": "code",
   "execution_count": null,
   "metadata": {},
   "outputs": [],
   "source": [
    "learner.sched.plot()"
   ]
  },
  {
   "cell_type": "code",
   "execution_count": 10,
   "metadata": {},
   "outputs": [],
   "source": [
    "lr = 10e-4"
   ]
  },
  {
   "cell_type": "code",
   "execution_count": 11,
   "metadata": {},
   "outputs": [
    {
     "data": {
      "application/vnd.jupyter.widget-view+json": {
       "model_id": "0956ff69a44f4812b9524baeeeb2796d",
       "version_major": 2,
       "version_minor": 0
      },
      "text/plain": [
       "HBox(children=(IntProgress(value=0, description='Epoch', max=10), HTML(value='')))"
      ]
     },
     "metadata": {},
     "output_type": "display_data"
    },
    {
     "name": "stdout",
     "output_type": "stream",
     "text": [
      "epoch      trn_loss   val_loss   accuracy                         \n",
      "    0      2.918691   2.884782   0.479281  \n",
      "    1      2.610951   2.543407   0.514165                         \n",
      "    2      2.488604   2.427246   0.526632                         \n",
      "    3      2.446519   2.364894   0.534882                         \n",
      "    4      2.367158   2.314849   0.542186                         \n",
      "    5      2.340279   2.26538    0.549559                         \n",
      "    6      2.297407   2.22772    0.55526                          \n",
      "    7      2.260481   2.197222   0.5599                           \n",
      "    8      2.228313   2.174836   0.563446                         \n",
      "    9      2.213755   2.166181   0.564879                         \n",
      "\n"
     ]
    },
    {
     "data": {
      "text/plain": [
       "[array([2.16618]), 0.5648794928166092]"
      ]
     },
     "execution_count": 11,
     "metadata": {},
     "output_type": "execute_result"
    }
   ],
   "source": [
    "learner.fit(lr, 1, cycle_len=10, use_clr_beta=(10,10,0.95,0.85))"
   ]
  },
  {
   "cell_type": "code",
   "execution_count": 12,
   "metadata": {
    "scrolled": true
   },
   "outputs": [
    {
     "data": {
      "image/png": "[encoded data removed]",
      "text/plain": [
       "<Figure size 432x288 with 1 Axes>"
      ]
     },
     "metadata": {},
     "output_type": "display_data"
    }
   ],
   "source": [
    "learner.sched.plot_loss(n_skip=20000)"
   ]
  },
  {
   "cell_type": "code",
   "execution_count": 13,
   "metadata": {},
   "outputs": [],
   "source": [
    "learner.save('experiment-3-sentence-piece-lowercase')"
   ]
  },
  {
   "cell_type": "code",
   "execution_count": null,
   "metadata": {},
   "outputs": [],
   "source": [
    "learner.load('experiment-2-sentence-piece-lowercase')"
   ]
  },
  {
   "cell_type": "code",
   "execution_count": 108,
   "metadata": {},
   "outputs": [],
   "source": [
    "m = learner.model\n",
    "\n",
    "sp = spm.SentencePieceProcessor()\n",
    "sp.Load(\"sp.model\")\n",
    "\n",
    "def sample_model(m, s, l=100):\n",
    "    words = []\n",
    "    \n",
    "    s_nums = sp.EncodeAsIds(s)\n",
    "    s_var = V(np.array(s_nums))[None]\n",
    "\n",
    "    m[0].bs=1\n",
    "    m.eval()\n",
    "    m.reset()\n",
    "\n",
    "    res, *_ = m(s_var)\n",
    "    print('...', end='')\n",
    "\n",
    "    for i in range(l):\n",
    "        r = torch.multinomial(res[-1].exp(), 2)\n",
    "        #r = torch.topk(res[-1].exp(), 2)[1]\n",
    "        if r.data[0] == 0:\n",
    "            r = r[1]\n",
    "        else:\n",
    "            r = r[0]\n",
    "        words = words + [int(to_np(r)[0])]\n",
    "        res, *_ = m(r[0].unsqueeze(0))\n",
    "        #print(word, end=' ')\n",
    "    m[0].bs=bs\n",
    "    print(sp.DecodeIds(words))"
   ]
  },
  {
   "cell_type": "code",
   "execution_count": 132,
   "metadata": {},
   "outputs": [
    {
     "name": "stdout",
     "output_type": "stream",
     "text": [
      "...evaluated by dr. [**first name8 (namepattern2) **] [**last name (namepattern1) vits.033**] responded well to iv diuretics. pt. has been increasingly hypotensive throughout the [**last name (lf) **], [**first name3 (lf) 116**] restart initiation of dobutamine. would let patient [**2175**] but would like to reconsult and clots tried because left ij was infected (would insert ibuprofen to treat lower groin site). iv nurse's patent and were d/cd. given ngt to a 20 cm\n"
     ]
    }
   ],
   "source": [
    "s = 'cardiovascular system '\n",
    "sample_model(m, s)"
   ]
  },
  {
   "cell_type": "code",
   "execution_count": 151,
   "metadata": {},
   "outputs": [
    {
     "name": "stdout",
     "output_type": "stream",
     "text": [
      "...of unclear etiology. full codeall: nkdameds: senna, senna, digoxin, asa / sc heparin,les, lisinopril, nystatindischarge medications:1. cholecalciferol (vitamin d3) 400 unit tablet sig: one (1)tablet po daily (daily).2. piperacillin-tazobactam 2.25 g recon soln sig: four hundred (500) mg intravenous q12h (every 12 hours) for 5 days.disp:*6 * refills:*0*3. docusate sodium 100 mg capsule sig\n"
     ]
    }
   ],
   "source": [
    "s = 'blood loss '\n",
    "sample_model(m, s)"
   ]
  }
 ],
 "metadata": {
  "kernelspec": {
   "display_name": "Python 3",
   "language": "python",
   "name": "python3"
  },
  "language_info": {
   "codemirror_mode": {
    "name": "ipython",
    "version": 3
   },
   "file_extension": ".py",
   "mimetype": "text/x-python",
   "name": "python",
   "nbconvert_exporter": "python",
   "pygments_lexer": "ipython3",
   "version": "3.6.6"
  }
 },
 "nbformat": 4,
 "nbformat_minor": 2
}
